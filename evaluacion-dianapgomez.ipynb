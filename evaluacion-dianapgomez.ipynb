{
 "cells": [
  {
   "cell_type": "markdown",
   "metadata": {},
   "source": [
    "# Evaluación Final Módulo 1 Data Analytics\n"
   ]
  },
  {
   "cell_type": "markdown",
   "metadata": {},
   "source": [
    "Diana P. Gómez"
   ]
  },
  {
   "cell_type": "code",
   "execution_count": 368,
   "metadata": {},
   "outputs": [],
   "source": [
    "class TiendaOnline:\n",
    "    def __init__(self):\n",
    "#Definiendo los atributos de la tienda online\n",
    "        self.inventario = []\n",
    "        self.ventas_totales = float(0)\n",
    "        self.clientes = {}\n",
    "        self.carrito = []\n",
    "\n",
    "#Definiendo los módulos de la tienda\n",
    "    def agregar_producto(self, nombre, precio, cantidad): # ← parámetros de los productos \n",
    "        \n",
    "        for producto in self.inventario:\n",
    "            if producto[\"Nombre\"] == nombre: # ← Buscamos el nombre concreto de la key dentro del bucle y lo comparamos con el parámetro introducido\n",
    "                producto[\"Cantidad\"] += cantidad # ← Si el producto está en el inventario se actualiza la cantidad\n",
    "                print(f\"El producto {nombre} ya está en el inventario. Se ha actualizado la cantidad, se han añadido {cantidad} unidades\")  \n",
    "                return\n",
    "        else:\n",
    "            self.inventario.append({\"Nombre\": nombre, \"Precio\": precio, \"Cantidad\": cantidad}) # ← diccionario que almacenará los productos\n",
    "            print(f\"El producto {nombre} no estaba en el inventario, pero ha sido agregado\") # ← Si el producto no está en el inventario lo agregamos\n",
    "            return # ← El diccionario ha sido agregado al atributo y marcamos un return para que se quede grabado  \n",
    "                 \n",
    "    def ver_inventario(self):\n",
    "        print(\"      -----------CATÁLOGO-----------\")\n",
    "\n",
    "        for producto in self.inventario:\n",
    "    \n",
    "            print(f\"{producto[\"Nombre\"]} → {producto[\"Precio\"]}€. {producto[\"Cantidad\"]} unidades disponibles\") # ← Comprobar el inventario\n",
    "        print(\"........................................\\n\")\n",
    "        return \n",
    "    \n",
    "\n",
    "    \n",
    "    def buscar_producto(self,nombre):\n",
    "         \n",
    "         for producto in self.inventario: \n",
    "            if producto[\"Nombre\"] ==nombre: # ← Buscamos el nombre concreto de la key dentro del bucle y lo comparamos con el parámetro introducido\n",
    "                print(producto) # ← Devuelve el producto que estamos buscando en el inventario\n",
    "                break # ← Rompemos el bucle para que no siga iterando\n",
    "            else:\n",
    "                print(f\"El producto {nombre} no está en la tienda, agrégalo para que conste en la búsqueda\") # ← Si no está nos invita a agregarlo \n",
    "                break # ← Rompemos el bucle para que no siga iterando\n",
    "                   \n",
    "\n",
    "    \n",
    "    def actualizar_stock(self, nombre,cantidad):\n",
    "        for producto in self.inventario:\n",
    "            if producto[\"Nombre\"] == nombre: # ← Buscamos el nombre concreto de la key dentro del bucle y lo comparamos con el parámetro introducido\n",
    "                producto[\"Cantidad\"] += cantidad # ← Si el parámetro está en el atributo comprobamos su key \"Cantidad\" y le sumamos la nueva cantidad introducida por parámetro\n",
    "                print(f\"El producto {nombre} se ha actualizado con {cantidad} unidades, ahora hay {producto[\"Cantidad\"]} unidades.\")\n",
    "                return  # ← La cantidad ha sido modificada en el diccionario y marcamos un return para que se quede grabado en el atributo\n",
    "        print(f\"El producto {nombre} no está en la tienda, agrégalo para poder actualizarlo\") # ← Si el producto no está en el inventario te invita a agregarlo \n",
    "            \n",
    "\n",
    "    \n",
    "    def eliminar_producto(self,nombre):\n",
    "        for producto in self.inventario:\n",
    "            if producto[\"Nombre\"] == nombre: # ← Buscamos el nombre concreto de la key dentro del bucle y lo comparamos con el parámetro introducido\n",
    "                self.inventario.remove(producto) # ← Borramos el elemento para que se elimine no solo el nombre del producto, si no el diccionario completo\n",
    "                print(f\"El producto {nombre} ha sido eliminado del inventario\")\n",
    "                return # ← El inventario ha sido modificado en el diccionario y marcamos un return para que se quede grabado en el atributo\n",
    "    \n",
    "        print(f\"El producto {nombre} no está en el inventario.\")\n",
    "                \n",
    "\n",
    "    \n",
    "    def calcular_valor_inventario(self):\n",
    "        \n",
    "        total_inventario = 0 # ← Creamos una variable con un valor 0 en el que se sumará el total del inventario\n",
    "        \n",
    "        for producto in self.inventario:\n",
    "            total_producto = producto[\"Cantidad\"] * producto[\"Precio\"] # ← Creamos una variable para calcular el total del producto multiplicando cantidad por precio\n",
    "            print(f\"Tienes {producto[\"Cantidad\"]} unidades de {producto[\"Nombre\"]} a {producto[\"Precio\"]}€, por lo que suma {total_producto}€\") # ← Para mayor visibilidad nos dice cuánto asciende el total de cada ítem\n",
    "            total_inventario += total_producto # ← Sumamos todos los totales y los grabamos en el valor total_inventario\n",
    "        print(f\"El total del inventario es {total_inventario}€\")\n",
    "        return\n",
    "\n",
    "\n",
    "    def agregar_cliente(self, nombre, mail): #← Agregamos clientes con sumail\n",
    "        if nombre in self.clientes: #← si el nombre ya está en la lista nos avisa\n",
    "            print(f\"{nombre} ya está en la base de datos de clientes\")\n",
    "        else:\n",
    "            self.clientes[nombre] = mail #← Si el nombre no está en la lista, creamos un nuevo clve:valor\n",
    "            print(f\"El cliente {nombre} ha sido incluido a nuestra base de datos junto con su mail {mail}\")\n",
    "    \n",
    "    def ver_clientes(self): #← Ver lista de clientes\n",
    "        print(\"          -----------CLIENTES-----------\")\n",
    "        for clientes in self.clientes.items():\n",
    "            print(f\"Cliente: {clientes}\")\n",
    "\n",
    "    \n",
    "    def ver_carrito(self): #← creamos un método para ver el carrito, nos ayudará en el siguiente método\n",
    "        print(\"      -----------CARRITO-----------\")\n",
    "        total = 0 #← marcamos un total con 0 en el que se sumarán las compras\n",
    "        for item in self.carrito:\n",
    "            subtotal =  item[\"Cantidad\"]*item[\"Precio\"] # ← Se calcula el subtotal por producto que hemos adquirido\n",
    "            total += subtotal # ← se calcula el total de todos los productos\n",
    "            print(f\"Tienes {item[\"Cantidad\"]} unidades de {item[\"Nombre\"]}, suma {subtotal}€\")\n",
    "        print(f\"Total a pagar {total}\")\n",
    "\n",
    "\n",
    "    def realizar_compra(self):\n",
    "        \n",
    "        self.ver_inventario()\n",
    "\n",
    "\n",
    "        while True: #← Bucle que permite al comprador elegir varios ítems\n",
    "            nombre_producto = input(\"¿Qué producto quieres comprar? (Escribe salir para terminar la compra)\").strip() #← input que introduce el ítem de compra o rompe el bucle\n",
    "            \n",
    "            if nombre_producto == \"salir\":\n",
    "                print(\"\\n*********************************************\")\n",
    "                self.ver_carrito()\n",
    "                print(\"\\n*********************************************\\n\")\n",
    "                print(f\"Gracias por tu compra\") #← Si decidimos salir se para el bucle y nos muestra qué hay en el carrito\n",
    "                \n",
    "                break\n",
    "    \n",
    "            else:\n",
    "                try: #← Excepción para verificar que el input de la cantidad de unidades es correcto\n",
    "                    cantidad_producto = int(input(\"¿Cuántas unidades quieres comprar?\")) #← Si introducimos un ítem seguidamente nos pregunta cuántas unidades queremos\n",
    "\n",
    "                except ValueError: # ← En el caso de que el input no sea un integer\n",
    "                    print(\"*Ese caracter no es válido, por favor introduce un número entero*\")\n",
    "                    continue # ← Vuelve a pedir el número\n",
    "            \n",
    "            producto_disponible = False # ← Variable para controlar que el input corresponde con un término concreto del inventario\n",
    "\n",
    "            for producto in self.inventario: #← Bucle for que itera por el inventario\n",
    "                if producto[\"Nombre\"] == nombre_producto: #← Si el nombre introducido coincide con un nombre en el inventario...\n",
    "                    \n",
    "                    producto_disponible = True #Si el producto está en el inventario marcamos esta variable como True\n",
    "\n",
    "                    if cantidad_producto > producto[\"Cantidad\"]: # ← ... pero no hay suficiente cantidad, saldrá un aviso de stock insuficiente\n",
    "                        print(\"*No tenemos suficiente stock de este producto*\")\n",
    "                        break # Y se para aquí\n",
    "                    \n",
    "                    else:     # Si las condiciones de que el producto coincide y hay stock, se ejecuta este else\n",
    "                        \n",
    "                        producto[\"Cantidad\"] -= cantidad_producto #← Si hay la cantidad marcada es menor que la que hay en stock se restará del stock\n",
    "            \n",
    "                        for item in self.carrito: # ← Si el ítem seleccionado está en el carrito\n",
    "                            if item[\"Nombre\"] == nombre_producto:\n",
    "                                item[\"Cantidad\"] += cantidad_producto # ← Se actualiza la cantidad de producto en el carrito\n",
    "                                print(f\"El producto {item[\"Nombre\"]} ya estaba en el carrito, hemos actualizado la cantidad a {item[\"Cantidad\"]} unidades\")\n",
    "                                break\n",
    "                        \n",
    "                        else: # ← Si el ítem seleccionado NO está en el carrito\n",
    "                            self.carrito.append({\"Nombre\": nombre_producto, \"Precio\": producto[\"Precio\"], \"Cantidad\": cantidad_producto}) # ← Lo añadimos mediante un diccionario con los parámetros de nombre y cantidad demandadas en el método realizar_compra y recogemos el precio del diccionario de inventario.\n",
    "                            print(f\"Has añadido {cantidad_producto} de {nombre_producto} al carrito\")\n",
    "                \n",
    "            else:\n",
    "                if not producto_disponible: # ← Si el producto introducido en el input no está disponible o el input es erróneo nos imprime un aviso y nos da otra oportunidad\n",
    "                    print(f\"*El producto {nombre_producto} no está disponible o es erróneo*\")\n",
    "                    continue\n",
    "        \n"
   ]
  },
  {
   "cell_type": "code",
   "execution_count": 369,
   "metadata": {},
   "outputs": [],
   "source": [
    "tienda = TiendaOnline()"
   ]
  },
  {
   "cell_type": "code",
   "execution_count": 370,
   "metadata": {},
   "outputs": [
    {
     "name": "stdout",
     "output_type": "stream",
     "text": [
      "El producto camisas no estaba en el inventario, pero ha sido agregado\n",
      "El producto abrigos no estaba en el inventario, pero ha sido agregado\n",
      "El producto camisas ya está en el inventario. Se ha actualizado la cantidad, se han añadido 200 unidades\n",
      "El producto zapatos no estaba en el inventario, pero ha sido agregado\n",
      "El producto pantalones no estaba en el inventario, pero ha sido agregado\n",
      "El producto vestidos no estaba en el inventario, pero ha sido agregado\n"
     ]
    }
   ],
   "source": [
    "tienda.agregar_producto(\"camisas\", 15, 5)\n",
    "tienda.agregar_producto(\"abrigos\", 80, 30)\n",
    "tienda.agregar_producto(\"camisas\", 15, 200)\n",
    "tienda.agregar_producto(\"zapatos\", 30, 40)\n",
    "tienda.agregar_producto(\"pantalones\", 25, 120)\n",
    "tienda.agregar_producto(\"vestidos\", 20, 800)\n"
   ]
  },
  {
   "cell_type": "code",
   "execution_count": 371,
   "metadata": {},
   "outputs": [
    {
     "name": "stdout",
     "output_type": "stream",
     "text": [
      "El producto camisa no está en la tienda, agrégalo para que conste en la búsqueda\n",
      "El producto chaleco no está en la tienda, agrégalo para que conste en la búsqueda\n"
     ]
    }
   ],
   "source": [
    "tienda.buscar_producto(\"camisa\")\n",
    "tienda.buscar_producto(\"chaleco\")"
   ]
  },
  {
   "cell_type": "code",
   "execution_count": 372,
   "metadata": {},
   "outputs": [
    {
     "name": "stdout",
     "output_type": "stream",
     "text": [
      "El producto vestidos ha sido eliminado del inventario\n"
     ]
    }
   ],
   "source": [
    "tienda.eliminar_producto(\"vestidos\")"
   ]
  },
  {
   "cell_type": "code",
   "execution_count": 373,
   "metadata": {},
   "outputs": [
    {
     "name": "stdout",
     "output_type": "stream",
     "text": [
      "El producto camisa no está en la tienda, agrégalo para que conste en la búsqueda\n",
      "El producto popo no está en la tienda, agrégalo para que conste en la búsqueda\n"
     ]
    }
   ],
   "source": [
    "tienda.buscar_producto(\"camisa\")\n",
    "tienda.buscar_producto(\"popo\")"
   ]
  },
  {
   "cell_type": "code",
   "execution_count": 374,
   "metadata": {},
   "outputs": [
    {
     "name": "stdout",
     "output_type": "stream",
     "text": [
      "El producto camisa no está en la tienda, agrégalo para poder actualizarlo\n",
      "El producto abrigo no está en la tienda, agrégalo para poder actualizarlo\n",
      "El producto chaleco no está en la tienda, agrégalo para poder actualizarlo\n"
     ]
    }
   ],
   "source": [
    "tienda.actualizar_stock(\"camisa\",140)\n",
    "tienda.actualizar_stock(\"abrigo\", 380)\n",
    "tienda.actualizar_stock(\"chaleco\", 40)\n"
   ]
  },
  {
   "cell_type": "code",
   "execution_count": 375,
   "metadata": {},
   "outputs": [
    {
     "name": "stdout",
     "output_type": "stream",
     "text": [
      "Tienes 205 unidades de camisas a 15€, por lo que suma 3075€\n",
      "Tienes 30 unidades de abrigos a 80€, por lo que suma 2400€\n",
      "Tienes 40 unidades de zapatos a 30€, por lo que suma 1200€\n",
      "Tienes 120 unidades de pantalones a 25€, por lo que suma 3000€\n",
      "El total del inventario es 9675€\n"
     ]
    }
   ],
   "source": [
    "tienda.calcular_valor_inventario()"
   ]
  },
  {
   "cell_type": "code",
   "execution_count": 376,
   "metadata": {},
   "outputs": [
    {
     "name": "stdout",
     "output_type": "stream",
     "text": [
      "      -----------CARRITO-----------\n",
      "Total a pagar 0\n"
     ]
    }
   ],
   "source": [
    "tienda.ver_carrito()"
   ]
  },
  {
   "cell_type": "code",
   "execution_count": 377,
   "metadata": {},
   "outputs": [
    {
     "name": "stdout",
     "output_type": "stream",
     "text": [
      "      -----------CATÁLOGO-----------\n",
      "camisas → 15€. 205 unidades disponibles\n",
      "abrigos → 80€. 30 unidades disponibles\n",
      "zapatos → 30€. 40 unidades disponibles\n",
      "pantalones → 25€. 120 unidades disponibles\n",
      "........................................\n",
      "\n"
     ]
    }
   ],
   "source": [
    "tienda.ver_inventario()\n"
   ]
  },
  {
   "cell_type": "code",
   "execution_count": 378,
   "metadata": {},
   "outputs": [
    {
     "name": "stdout",
     "output_type": "stream",
     "text": [
      "      -----------CATÁLOGO-----------\n",
      "camisas → 15€. 205 unidades disponibles\n",
      "abrigos → 80€. 30 unidades disponibles\n",
      "zapatos → 30€. 40 unidades disponibles\n",
      "pantalones → 25€. 120 unidades disponibles\n",
      "........................................\n",
      "\n",
      "*Ese caracter no es válido, por favor introduce un número entero*\n",
      "*Ese caracter no es válido, por favor introduce un número entero*\n",
      "*Ese caracter no es válido, por favor introduce un número entero*\n",
      "\n",
      "*********************************************\n",
      "      -----------CARRITO-----------\n",
      "Total a pagar 0\n",
      "\n",
      "*********************************************\n",
      "\n",
      "Gracias por tu compra\n"
     ]
    }
   ],
   "source": [
    "tienda.realizar_compra()"
   ]
  },
  {
   "cell_type": "code",
   "execution_count": 379,
   "metadata": {},
   "outputs": [
    {
     "name": "stdout",
     "output_type": "stream",
     "text": [
      "El cliente Pepita Flores ha sido incluido a nuestra base de datos junto con su mail pf@pepita.com\n",
      "El cliente Armando Guerra ha sido incluido a nuestra base de datos junto con su mail ag@guerra.com\n",
      "Pepita Flores ya está en la base de datos de clientes\n"
     ]
    }
   ],
   "source": [
    "tienda.agregar_cliente(\"Pepita Flores\", \"pf@pepita.com\")\n",
    "tienda.agregar_cliente(\"Armando Guerra\", \"ag@guerra.com\")\n",
    "tienda.agregar_cliente(\"Pepita Flores\", \"pf@pepita.com\")"
   ]
  },
  {
   "cell_type": "code",
   "execution_count": 380,
   "metadata": {},
   "outputs": [
    {
     "name": "stdout",
     "output_type": "stream",
     "text": [
      "          -----------CLIENTES-----------\n",
      "Cliente: ('Pepita Flores', 'pf@pepita.com')\n",
      "Cliente: ('Armando Guerra', 'ag@guerra.com')\n"
     ]
    }
   ],
   "source": [
    "tienda.ver_clientes()"
   ]
  },
  {
   "cell_type": "code",
   "execution_count": 381,
   "metadata": {},
   "outputs": [
    {
     "data": {
      "text/plain": [
       "{'inventario': [{'Nombre': 'camisas', 'Precio': 15, 'Cantidad': 205},\n",
       "  {'Nombre': 'abrigos', 'Precio': 80, 'Cantidad': 30},\n",
       "  {'Nombre': 'zapatos', 'Precio': 30, 'Cantidad': 40},\n",
       "  {'Nombre': 'pantalones', 'Precio': 25, 'Cantidad': 120}],\n",
       " 'ventas_totales': 0.0,\n",
       " 'clientes': {'Pepita Flores': 'pf@pepita.com',\n",
       "  'Armando Guerra': 'ag@guerra.com'},\n",
       " 'carrito': []}"
      ]
     },
     "execution_count": 381,
     "metadata": {},
     "output_type": "execute_result"
    }
   ],
   "source": [
    "tienda.__dict__"
   ]
  },
  {
   "cell_type": "code",
   "execution_count": null,
   "metadata": {},
   "outputs": [],
   "source": []
  }
 ],
 "metadata": {
  "kernelspec": {
   "display_name": "base",
   "language": "python",
   "name": "python3"
  },
  "language_info": {
   "codemirror_mode": {
    "name": "ipython",
    "version": 3
   },
   "file_extension": ".py",
   "mimetype": "text/x-python",
   "name": "python",
   "nbconvert_exporter": "python",
   "pygments_lexer": "ipython3",
   "version": "3.12.7"
  }
 },
 "nbformat": 4,
 "nbformat_minor": 2
}
