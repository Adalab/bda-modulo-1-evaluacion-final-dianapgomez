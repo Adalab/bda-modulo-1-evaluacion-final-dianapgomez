{
 "cells": [
  {
   "cell_type": "markdown",
   "metadata": {},
   "source": [
    "# Evaluación Final Módulo 1 Data Analytics\n"
   ]
  },
  {
   "cell_type": "markdown",
   "metadata": {},
   "source": [
    "Diana P. Gómez"
   ]
  },
  {
   "cell_type": "code",
   "execution_count": null,
   "metadata": {},
   "outputs": [],
   "source": [
    "class TiendaOnline:\n",
    "    def __init__(self):\n",
    "#Definiendo los atributos de la tienda online\n",
    "        self.inventario = []\n",
    "        self.ventas_totales = float(0)\n",
    "        self.clientes = {}\n",
    "\n",
    "#Definiendo los módulos de la tienda\n",
    "    def agregar_producto(self, nombre, precio, cantidad): # ← parámetros de los productos \n",
    "        \n",
    "        for producto in self.inventario:\n",
    "            if producto[\"Nombre\"] == nombre: # ← Buscamos el nombre concreto de la key dentro del bucle y lo comparamos con el parámetro introducido\n",
    "                producto[\"Cantidad\"] += cantidad\n",
    "                print(f\"El producto {nombre} ya está en el inventario. Se ha actualizado la cantidad, se han añadido {cantidad} unidades\") # ← Si el producto está en el inventario se actualiza la cantidad \n",
    "                return\n",
    "        else:\n",
    "                self.inventario.append({\"Nombre\": nombre, \"Precio\": precio, \"Cantidad\": cantidad}) # ← diccionario que almacenará los productos\n",
    "                print(f\"El producto {nombre} no estaba en el inventario, pero ha sido agregado\") # ← Si el producto no está en el inventario lo agregamos\n",
    "                return # ← El diccionario ha sido agregado al atributo y marcamos un return para que se quede grabado  \n",
    "                 \n",
    "    def ver_inventario(self):\n",
    "         \n",
    "         for producto in self.inventario:\n",
    "              print(producto) # ← Comprobar el inventario\n",
    "\n",
    "    \n",
    "    def buscar_producto(self,nombre):\n",
    "         \n",
    "         for producto in self.inventario: \n",
    "            if producto[\"Nombre\"] ==nombre: # ← Buscamos el nombre concreto de la key dentro del bucle y lo comparamos con el parámetro introducido\n",
    "                print(producto) # ← Devuelve el producto que estamos buscando en el inventario\n",
    "                break # ← Rompemos el bucle para que no siga iterando\n",
    "            else:\n",
    "                print(f\"El producto {nombre} no está en la tienda, agrégalo para que conste en la búsqueda\") # ← Si no está nos invita a agregarlo \n",
    "                break # ← Rompemos el bucle para que no siga iterando\n",
    "                   \n",
    "\n",
    "    \n",
    "    def actualizar_stock(self, nombre,cantidad):\n",
    "        for producto in self.inventario:\n",
    "            if producto[\"Nombre\"] == nombre: # ← Buscamos el nombre concreto de la key dentro del bucle y lo comparamos con el parámetro introducido\n",
    "                producto[\"Cantidad\"] += cantidad # ← Si el parámetro está en el atributo comprobamos su key \"Cantidad\" y le sumamos la nueva cantidad introducida por parámetro\n",
    "                print(f\"El producto {nombre} se ha actualizado con {cantidad} unidades, ahora hay {producto[\"Cantidad\"]} unidades.\")\n",
    "                return  # ← La cantidad ha sido modificada en el diccionario y marcamos un return para que se quede grabado en el atributo\n",
    "        print(f\"El producto {nombre} no está en la tienda, agrégalo para poder actualizarlo\") # ← Si el producto no está en el inventario te invita a agregarlo \n",
    "            \n",
    "\n",
    "    \n",
    "    def eliminar_producto(self,nombre):\n",
    "        for producto in self.inventario:\n",
    "            if producto[\"Nombre\"] == nombre: # ← Buscamos el nombre concreto de la key dentro del bucle y lo comparamos con el parámetro introducido\n",
    "                self.inventario.remove(producto) # ← Borramos el elemento para que se elimine no solo el nombre del producto, si no el diccionario completo\n",
    "                print(f\"El producto {nombre} ha sido eliminado del inventario\")\n",
    "                return # ← El inventario ha sido modificado en el diccionario y marcamos un return para que se quede grabado en el atributo\n",
    "    \n",
    "        print(f\"El producto {nombre} no está en el inventario.\")\n",
    "                \n",
    "\n",
    "    \n",
    "    def calcular_valor_inventario(self):\n",
    "        \n",
    "        total_inventario = 0 # ← Creamos una variable con un valor 0 en el que se sumará el total del inventario\n",
    "        \n",
    "        for producto in self.inventario:\n",
    "            total_producto = producto[\"Cantidad\"] * producto[\"Precio\"] # ← Creamos una variable para calcular el total del producto multiplicando cantidad por precio\n",
    "            print(f\"Tienes {producto[\"Cantidad\"]} unidades de {producto[\"Nombre\"]} a {producto[\"Precio\"]}€, por lo que suma {total_producto}€\") # ← Para mayor visibilidad nos dice cuánto asciende el total de cada ítem\n",
    "            total_inventario += total_producto # ← Sumamos todos los totales y los grabamos en el valor total_inventario\n",
    "        print(f\"El total del inventario es {total_inventario}€\")\n",
    "        return\n",
    "\n",
    "\n",
    "    def agregar_cliente(self, nombre, mail):\n",
    "        if nombre in self.clientes:\n",
    "            print(f\"{nombre} ya está en la base de datos de clientes\")\n",
    "        else:\n",
    "            self.clientes[nombre] = mail \n",
    "            print(f\"El cliente {nombre} ha sido incluido a nuestra base de datos junto con su mail {mail}\")\n",
    "    \n",
    "    def ver_clientes(self):\n",
    "        for clientes in self.clientes.items():\n",
    "            print(clientes)\n",
    "\n",
    "    def realizar_compra(self):\n",
    "        while True:\n",
    "            print(self.inventario)\n",
    "            carrito = []\n",
    "\n",
    "            producto_elegido = input(\"Elige un producto de nuestro catálogo\").lower()\n",
    "            for producto in self.inventario:\n",
    "                if producto_elegido == producto[\"Nombre\"]:\n",
    "                    carrito.append(producto_elegido)\n",
    "                    print(f\"Tu carrito tiene {carrito}\")\n",
    "                    continue\n",
    "                else:\n",
    "                    print(f\"En estos momentos no tenemos {producto_elegido} en stock\")\n",
    "                    \n",
    "        #¿Seguir comprando o calcular precio final?\n",
    "        "
   ]
  },
  {
   "cell_type": "code",
   "execution_count": 3,
   "metadata": {},
   "outputs": [],
   "source": [
    "tienda = TiendaOnline()"
   ]
  },
  {
   "cell_type": "code",
   "execution_count": 113,
   "metadata": {},
   "outputs": [
    {
     "name": "stdout",
     "output_type": "stream",
     "text": [
      "El cliente Pepita Flores ha sido incluido a nuestra base de datos junto con su mail pf@pepita.com\n",
      "El cliente Armando Guerra ha sido incluido a nuestra base de datos junto con su mail ag@guerra.com\n",
      "Pepita Flores ya está en la base de datos de clientes\n"
     ]
    }
   ],
   "source": [
    "tienda.agregar_cliente(\"Pepita Flores\", \"pf@pepita.com\")\n",
    "tienda.agregar_cliente(\"Armando Guerra\", \"ag@guerra.com\")\n",
    "tienda.agregar_cliente(\"Pepita Flores\", \"pf@pepita.com\")"
   ]
  },
  {
   "cell_type": "code",
   "execution_count": 106,
   "metadata": {},
   "outputs": [
    {
     "data": {
      "text/plain": [
       "{'inventario': [],\n",
       " 'ventas_totales': 0.0,\n",
       " 'clientes': {'Pepita Flores': 'pf@pepita.com',\n",
       "  'Armando Guerra': 'ag@guerra.com'}}"
      ]
     },
     "execution_count": 106,
     "metadata": {},
     "output_type": "execute_result"
    }
   ],
   "source": [
    "tienda.__dict__"
   ]
  },
  {
   "cell_type": "code",
   "execution_count": 114,
   "metadata": {},
   "outputs": [
    {
     "name": "stdout",
     "output_type": "stream",
     "text": [
      "('Pepita Flores', 'pf@pepita.com')\n",
      "('Armando Guerra', 'ag@guerra.com')\n"
     ]
    }
   ],
   "source": [
    "tienda.ver_clientes()"
   ]
  },
  {
   "cell_type": "code",
   "execution_count": 4,
   "metadata": {},
   "outputs": [
    {
     "name": "stdout",
     "output_type": "stream",
     "text": [
      "El producto camisa no estaba en el inventario, pero ha sido agregado\n",
      "El producto abrigo no estaba en el inventario, pero ha sido agregado\n",
      "El producto camisa ya está en el inventario. Se ha actualizado la cantidad, se han añadido 200 unidades\n",
      "El producto zapatos no estaba en el inventario, pero ha sido agregado\n",
      "El producto pantalones no estaba en el inventario, pero ha sido agregado\n",
      "El producto vestidos no estaba en el inventario, pero ha sido agregado\n"
     ]
    }
   ],
   "source": [
    "tienda.agregar_producto(\"camisa\", 15, 5)\n",
    "tienda.agregar_producto(\"abrigo\", 80, 30)\n",
    "tienda.agregar_producto(\"camisa\", 15, 200)\n",
    "tienda.agregar_producto(\"zapatos\", 30, 40)\n",
    "tienda.agregar_producto(\"pantalones\", 25, 120)\n",
    "tienda.agregar_producto(\"vestidos\", 20, 800)\n"
   ]
  },
  {
   "cell_type": "code",
   "execution_count": null,
   "metadata": {},
   "outputs": [
    {
     "name": "stdout",
     "output_type": "stream",
     "text": [
      "[{'Nombre': 'camisa', 'Precio': 15, 'Cantidad': 205}, {'Nombre': 'abrigo', 'Precio': 80, 'Cantidad': 30}, {'Nombre': 'zapatos', 'Precio': 30, 'Cantidad': 40}, {'Nombre': 'pantalones', 'Precio': 25, 'Cantidad': 120}, {'Nombre': 'vestidos', 'Precio': 20, 'Cantidad': 800}]\n",
      "Tu carrito tiene ['camisa']\n",
      "En estos momentos no tenemos camisa en stock\n",
      "En estos momentos no tenemos camisa en stock\n",
      "En estos momentos no tenemos camisa en stock\n",
      "En estos momentos no tenemos camisa en stock\n",
      "[{'Nombre': 'camisa', 'Precio': 15, 'Cantidad': 205}, {'Nombre': 'abrigo', 'Precio': 80, 'Cantidad': 30}, {'Nombre': 'zapatos', 'Precio': 30, 'Cantidad': 40}, {'Nombre': 'pantalones', 'Precio': 25, 'Cantidad': 120}, {'Nombre': 'vestidos', 'Precio': 20, 'Cantidad': 800}]\n",
      "En estos momentos no tenemos zapatos en stock\n",
      "En estos momentos no tenemos zapatos en stock\n",
      "Tu carrito tiene ['zapatos']\n",
      "En estos momentos no tenemos zapatos en stock\n",
      "En estos momentos no tenemos zapatos en stock\n",
      "[{'Nombre': 'camisa', 'Precio': 15, 'Cantidad': 205}, {'Nombre': 'abrigo', 'Precio': 80, 'Cantidad': 30}, {'Nombre': 'zapatos', 'Precio': 30, 'Cantidad': 40}, {'Nombre': 'pantalones', 'Precio': 25, 'Cantidad': 120}, {'Nombre': 'vestidos', 'Precio': 20, 'Cantidad': 800}]\n"
     ]
    }
   ],
   "source": [
    "tienda.realizar_compra()"
   ]
  },
  {
   "cell_type": "code",
   "execution_count": 88,
   "metadata": {},
   "outputs": [
    {
     "name": "stdout",
     "output_type": "stream",
     "text": [
      "{'Nombre': 'camisa', 'Precio': 15, 'Cantidad': 205}\n",
      "{'Nombre': 'abrigo', 'Precio': 80, 'Cantidad': 30}\n",
      "{'Nombre': 'zapatos', 'Precio': 30, 'Cantidad': 40}\n",
      "{'Nombre': 'pantalones', 'Precio': 25, 'Cantidad': 120}\n",
      "{'Nombre': 'vestidos', 'Precio': 20, 'Cantidad': 800}\n"
     ]
    }
   ],
   "source": [
    "tienda.ver_inventario()\n"
   ]
  },
  {
   "cell_type": "code",
   "execution_count": 89,
   "metadata": {},
   "outputs": [
    {
     "name": "stdout",
     "output_type": "stream",
     "text": [
      "{'Nombre': 'camisa', 'Precio': 15, 'Cantidad': 205}\n",
      "El producto chaleco no está en la tienda, agrégalo para que conste en la búsqueda\n"
     ]
    }
   ],
   "source": [
    "tienda.buscar_producto(\"camisa\")\n",
    "tienda.buscar_producto(\"chaleco\")"
   ]
  },
  {
   "cell_type": "code",
   "execution_count": 90,
   "metadata": {},
   "outputs": [
    {
     "name": "stdout",
     "output_type": "stream",
     "text": [
      "El producto vestidos ha sido eliminado del inventario\n"
     ]
    }
   ],
   "source": [
    "tienda.eliminar_producto(\"vestidos\")"
   ]
  },
  {
   "cell_type": "code",
   "execution_count": 91,
   "metadata": {},
   "outputs": [
    {
     "name": "stdout",
     "output_type": "stream",
     "text": [
      "{'Nombre': 'camisa', 'Precio': 15, 'Cantidad': 205}\n",
      "El producto popo no está en la tienda, agrégalo para que conste en la búsqueda\n"
     ]
    }
   ],
   "source": [
    "tienda.buscar_producto(\"camisa\")\n",
    "tienda.buscar_producto(\"popo\")"
   ]
  },
  {
   "cell_type": "code",
   "execution_count": 92,
   "metadata": {},
   "outputs": [
    {
     "name": "stdout",
     "output_type": "stream",
     "text": [
      "El producto camisa se ha actualizado con 140 unidades, ahora hay 345 unidades.\n",
      "El producto abrigo se ha actualizado con 380 unidades, ahora hay 410 unidades.\n",
      "El producto chaleco no está en la tienda, agrégalo para poder actualizarlo\n"
     ]
    }
   ],
   "source": [
    "tienda.actualizar_stock(\"camisa\",140)\n",
    "tienda.actualizar_stock(\"abrigo\", 380)\n",
    "tienda.actualizar_stock(\"chaleco\", 40)\n"
   ]
  },
  {
   "cell_type": "code",
   "execution_count": 93,
   "metadata": {},
   "outputs": [
    {
     "name": "stdout",
     "output_type": "stream",
     "text": [
      "Tienes 345 unidades de camisa a 15€, por lo que suma 5175€\n",
      "Tienes 410 unidades de abrigo a 80€, por lo que suma 32800€\n",
      "Tienes 40 unidades de zapatos a 30€, por lo que suma 1200€\n",
      "Tienes 120 unidades de pantalones a 25€, por lo que suma 3000€\n",
      "El total del inventario es 42175€\n"
     ]
    }
   ],
   "source": [
    "tienda.calcular_valor_inventario()"
   ]
  },
  {
   "cell_type": "code",
   "execution_count": null,
   "metadata": {},
   "outputs": [],
   "source": []
  }
 ],
 "metadata": {
  "kernelspec": {
   "display_name": "base",
   "language": "python",
   "name": "python3"
  },
  "language_info": {
   "codemirror_mode": {
    "name": "ipython",
    "version": 3
   },
   "file_extension": ".py",
   "mimetype": "text/x-python",
   "name": "python",
   "nbconvert_exporter": "python",
   "pygments_lexer": "ipython3",
   "version": "3.12.7"
  }
 },
 "nbformat": 4,
 "nbformat_minor": 2
}
